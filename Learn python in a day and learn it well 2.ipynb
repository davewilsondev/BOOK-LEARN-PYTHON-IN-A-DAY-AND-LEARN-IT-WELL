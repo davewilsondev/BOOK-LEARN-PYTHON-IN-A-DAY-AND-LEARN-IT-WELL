{
 "cells": [
  {
   "cell_type": "code",
   "execution_count": null,
   "metadata": {
    "collapsed": true
   },
   "outputs": [],
   "source": [
    "# need to practice workingwith file more and more \n",
    "# need little test projects \n",
    "# "
   ]
  },
  {
   "cell_type": "code",
   "execution_count": 5,
   "metadata": {},
   "outputs": [],
   "source": [
    "inputFile = open(r\"C:\\Users\\chida\\learn python in a day\\test1.txt\", \"r\")\n",
    "outputFile = open(r\"C:\\Users\\chida\\learn python in a day\\test1output1.txt\", \"w\")\n",
    "\n",
    "msg = inputFile.read(10)\n",
    "\n",
    "### the read() reads through the file 10 bytes at a time until it is read\n",
    "### the code below adds a new line after 10 bytes\n",
    "\n",
    "while len(msg):\n",
    "    outputFile.write(msg + \"\\n\")\n",
    "    msg = inputFile.read(10)\n",
    "    \n",
    "inputFile.close()\n",
    "outputFile.close()"
   ]
  },
  {
   "cell_type": "code",
   "execution_count": 6,
   "metadata": {},
   "outputs": [
    {
     "name": "stdout",
     "output_type": "stream",
     "text": [
      "Test\n",
      "\n",
      "Lore\n",
      "m ipsum do\n",
      "lor sit am\n",
      "et, consec\n",
      "tetur adip\n",
      "iscing eli\n",
      "t. Cras to\n",
      "rtor elit,\n",
      " ullamcorp\n",
      "er in vari\n",
      "us a, pret\n",
      "ium non ve\n",
      "lit. \n",
      "Pell\n",
      "entesque e\n",
      "t pulvinar\n",
      " erat, ut \n",
      "cursus aug\n",
      "ue. Cras e\n",
      "u magna in\n",
      " lectus vi\n",
      "verra vive\n",
      "rra. \n",
      "Maur\n",
      "is lacinia\n",
      " dolor eu \n",
      "sapien pos\n",
      "uere, in p\n",
      "haretra pu\n",
      "rus varius\n",
      ". \n",
      "Mauris \n",
      "condimentu\n",
      "m lorem a \n",
      "lacus bibe\n",
      "ndum, vita\n",
      "e dictum t\n",
      "ellus accu\n",
      "msan. \n",
      "Cra\n",
      "s luctus m\n",
      "i at susci\n",
      "pit ultric\n",
      "ies. \n",
      "Duis\n",
      " pellentes\n",
      "que alique\n",
      "t nulla ve\n",
      "l hendreri\n",
      "t. \n",
      "Aliqua\n",
      "m erat vol\n",
      "utpat. Cra\n",
      "s porta, r\n",
      "isus id or\n",
      "nare viver\n",
      "ra, odio e\n",
      "lit cursus\n",
      " nibh, nec\n",
      " efficitur\n",
      " ipsum neq\n",
      "ue at tort\n",
      "or.\n",
      "\n",
      "Etiam\n",
      " mauris ri\n",
      "sus, maxim\n",
      "us sed aug\n",
      "ue non, eg\n",
      "estas vest\n",
      "ibulum jus\n",
      "to. \n",
      "Cras \n",
      "sed tellus\n",
      " pharetra,\n",
      " varius la\n",
      "cus vitae,\n",
      " tristique\n",
      " augue. \n",
      "P\n",
      "roin at ia\n",
      "culis est.\n",
      " Suspendis\n",
      "se id laor\n",
      "eet ligula\n",
      ". Vestibul\n",
      "um in euis\n",
      "mod quam. \n",
      "\n",
      "Ut maximu\n",
      "s euismod \n",
      "enim, quis\n",
      " ultrices \n",
      "tortor con\n",
      "vallis sit\n",
      " amet. \n",
      "Do\n",
      "nec hendre\n",
      "rit metus \n",
      "magna, id \n",
      "imperdiet \n",
      "arcu ultri\n",
      "ces a. \n",
      "Ve\n",
      "stibulum a\n",
      "uctor maur\n",
      "is in ferm\n",
      "entum elem\n",
      "entum. \n",
      "Pe\n",
      "llentesque\n",
      " tincidunt\n",
      " velit ac \n",
      "ipsum pell\n",
      "entesque c\n",
      "ongue. \n",
      "Na\n",
      "m viverra \n",
      "congue lac\n",
      "inia. Maur\n",
      "is at orna\n",
      "re felis, \n",
      "non imperd\n",
      "iet diam. \n",
      "\n",
      "Aliquam g\n",
      "ravida tin\n",
      "cidunt nun\n",
      "c, eget ef\n",
      "ficitur nu\n",
      "lla maximu\n",
      "s sit amet\n",
      ". \n",
      "In blan\n",
      "dit magna \n",
      "leo, non s\n",
      "odales dui\n",
      " pretium s\n",
      "ed. In acc\n",
      "umsan bibe\n",
      "ndum lacus\n",
      ", porttito\n",
      "r pellente\n",
      "sque massa\n",
      " efficitur\n",
      " at.\n",
      "\n",
      "\n",
      "Thi\n",
      "s sentence\n",
      " will be a\n",
      "ppended\n",
      "Py\n",
      "thon is fu\n",
      "n\n"
     ]
    }
   ],
   "source": [
    "f = open(r\"C:\\Users\\chida\\learn python in a day\\test1output1.txt\", \"r\")\n",
    "\n",
    "for i in f:\n",
    "    print(i, end = \"\")"
   ]
  },
  {
   "cell_type": "code",
   "execution_count": 12,
   "metadata": {
    "collapsed": true
   },
   "outputs": [],
   "source": [
    "#8.5 OPENING, READING AND WRITING BINARY FILES \n",
    "\n",
    "# BINARY FILES REFER TO A FILE THAT CONTAINS NO TEXT \n",
    "\n",
    "# WE USE rb AND wb INSTEAD OF R AND W \n",
    "\n",
    "# binary is the same as text \n",
    "\n",
    "inputFile  = open(r\"C:\\Users\\chida\\learn python in a day\\myimage.jpg\", \"rb\")\n",
    "outputFile  = open(r\"C:\\Users\\chida\\learn python in a day\\myoutputimage1.jpg\", \"wb\")\n",
    "\n",
    "msg = inputFile.read(10)\n",
    "\n",
    "### the read() reads through the file 10 bytes at a time until it is read\n",
    "### the code below adds a new line after 10 bytes\n",
    "\n",
    "while len(msg):\n",
    "    outputFile.write(msg)\n",
    "    msg = inputFile.read(10)\n",
    "    \n",
    "inputFile.close()\n",
    "outputFile.close()"
   ]
  },
  {
   "cell_type": "code",
   "execution_count": null,
   "metadata": {
    "collapsed": true
   },
   "outputs": [],
   "source": []
  },
  {
   "cell_type": "code",
   "execution_count": 10,
   "metadata": {
    "collapsed": true
   },
   "outputs": [],
   "source": [
    "# 8.6 deleting and renaming text files \n"
   ]
  },
  {
   "cell_type": "code",
   "execution_count": 19,
   "metadata": {},
   "outputs": [],
   "source": [
    "# the remove function delete a file \n",
    "# how do i change the location of the current working folder?\n",
    "\n",
    "import os as o\n",
    "\n",
    "#o.remove(r\"C:\\Users\\chida\\learn python in a day\\myoutputimage1.jpg\")\n",
    "o.rename(r\"C:\\Users\\chida\\learn python in a day\\myoutputimage.jpg\", r\"C:\\Users\\chida\\learn python in a day\\hello.jpg\")"
   ]
  },
  {
   "cell_type": "code",
   "execution_count": null,
   "metadata": {
    "collapsed": true
   },
   "outputs": [],
   "source": []
  },
  {
   "cell_type": "code",
   "execution_count": 20,
   "metadata": {
    "collapsed": true
   },
   "outputs": [],
   "source": [
    "#CHAPTER 9 OBJECT ORIENTATED PROGRAMMING"
   ]
  },
  {
   "cell_type": "code",
   "execution_count": 21,
   "metadata": {
    "collapsed": true
   },
   "outputs": [],
   "source": [
    "# OOP BREAKS A PROGRAMMING PROBLEM INTO OBJECTS THAT INTERACT WITH EACH OTHER\n",
    "\n",
    "# OBJECTS ARE CREATED FROM TEMPLATES KNOWN AS CLASSES \n",
    "\n",
    "# THINK OF A CLASS AS A BLUE PRINT FOR A BUILDING \n",
    "\n",
    "# AN OBJECT IS THE BUILDING THAT WE BASE ON THE BLUE PRINT "
   ]
  },
  {
   "cell_type": "code",
   "execution_count": 23,
   "metadata": {
    "collapsed": true
   },
   "outputs": [],
   "source": [
    "# 9.2 WRITING OUT OWN CLASS \n",
    "\n",
    "# TO WRITE A CLASS WE USE THE CLASS KEYWORD\n",
    "\n",
    "# HOW IS A CLASS DIFFERENT TO A FUNCTION?\n",
    "# THIS IS IMPORTANT TO KNOW \n",
    "#WE USE PASCAL CASING\n",
    "\n",
    "# class Staff:\n",
    "    #contents of the class. \n",
    "    \n",
    "# A CLASS CONSISTS OF VARIABLES AND FUNCTIONS \n",
    "# VARIABLES STORE DATA\n",
    "# FUCTIONS PERFORM TASKS FOR US \n",
    "# IF A FUCTION EXISTS IN A CLASS ISIT KNOW AS A METHOD\n",
    "\n",
    "# CLASS = TEMPLATE CNTAINIGN DATA AND METHODS "
   ]
  },
  {
   "cell_type": "code",
   "execution_count": 24,
   "metadata": {
    "collapsed": true
   },
   "outputs": [],
   "source": [
    "#FOR THE NEXT EXAMPLE\n",
    "\n",
    "# CLASS FOR STAFF\n",
    "# VARIABLES NAME AND POSTITON\n",
    "# METHOD CALCULATE PAY"
   ]
  },
  {
   "cell_type": "code",
   "execution_count": 25,
   "metadata": {},
   "outputs": [
    {
     "ename": "IndentationError",
     "evalue": "unexpected indent (<ipython-input-25-f69de4ab659c>, line 17)",
     "output_type": "error",
     "traceback": [
      "\u001b[1;36m  File \u001b[1;32m\"<ipython-input-25-f69de4ab659c>\"\u001b[1;36m, line \u001b[1;32m17\u001b[0m\n\u001b[1;33m    self.position = pPosition \"\"\"instance variable\"\"\"\u001b[0m\n\u001b[1;37m    ^\u001b[0m\n\u001b[1;31mIndentationError\u001b[0m\u001b[1;31m:\u001b[0m unexpected indent\n"
     ]
    }
   ],
   "source": [
    "# this is how we call a class.\n",
    "# the line below defines aclass called staff\n",
    "class Staff:\n",
    "    \n",
    "# next we define a special method called init\n",
    "# this is know as the initializer (give them their initial values) of the class\n",
    "# always has two underscores at the front and the back \n",
    "# python has lots of special methods\n",
    "# all special methods have the two underscores front and back\n",
    "# an intitialiser is called when a object of a class is created\n",
    "# in the class we have 3 variables. position, name and pay. they are known as instance variables(not local) and class variables\n",
    "# instance variables are prefixed with the keyword self. Self referes to an instance of itself\n",
    "# most methos in a class have self as the first parameter\n",
    "\n",
    "\n",
    "    def __init__(self, pPosition, pName, pPay): \"\"\"parameters\"\"\"\n",
    "        self.position = pPosition \"\"\"instance variable\"\"\"\n",
    "        self.name = pName \"\"\"instance variable\"\"\"\n",
    "        self.pay = pPay \"\"\"instance variable\"\"\"\n",
    "        print(\"Creating staff object\")\n",
    "# __str__ is another specialmethod\n",
    "# used to return a human readable string \n",
    "# in the example it returns a string of the 3 instance variables\n",
    "    def __str__(self):\n",
    "        return \"Position = %s, Name = %s, Pay = %d\" %(self.position, self.name, self.pay)\n",
    "# is a method to calculate the pay of the staff\n",
    "# similar to a function expect uses the self parameter\n",
    "# prompt the user enter theamount of hours worked\n",
    "# prompt the user for a hourly rate \n",
    "# these variables are local variables and do not need self infront of them\n",
    "    def calculatePay(self):\n",
    "        prompt = \"\\nEnter number of hours worked for %s: \" %(self.name)\n",
    "        hours = input(prompt)\n",
    "        prompt = \"\\nEnter hourly rate for %s: \" %(self.name)\n",
    "        hourlyRate = input(prompt)\n",
    "        self.pay = int(hours)*int(hourlyRate)\n",
    "        return self.pay\n",
    "    \n"
   ]
  },
  {
   "cell_type": "code",
   "execution_count": null,
   "metadata": {
    "collapsed": true
   },
   "outputs": [],
   "source": [
    "# to recap \n",
    "# instance variables = position,name,pay\n",
    "# methods = __init__ , __str__ and caluculatePay()"
   ]
  },
  {
   "cell_type": "code",
   "execution_count": 28,
   "metadata": {},
   "outputs": [],
   "source": [
    "\n",
    "class Staff:\n",
    "    def __init__(self, pPosition, pName, pPay): \n",
    "        self.position = pPosition \n",
    "        self.name = pName \n",
    "        self.pay = pPay \n",
    "        print(\"Creating staff object\")\n",
    "    def __str__(self):\n",
    "        return \"Position = %s, Name = %s, Pay = %d\" %(self.position, self.name, self.pay)\n",
    "    def calculatePay(self):\n",
    "        prompt = \"\\nEnter number of hours worked for %s: \" %(self.name)\n",
    "        hours = input(prompt)\n",
    "        prompt = \"\\nEnter hourly rate for %s: \" %(self.name)\n",
    "        hourlyRate = input(prompt)\n",
    "        self.pay = int(hours)*int(hourlyRate)\n",
    "        return self.pay\n",
    "    "
   ]
  },
  {
   "cell_type": "code",
   "execution_count": 30,
   "metadata": {},
   "outputs": [
    {
     "name": "stdout",
     "output_type": "stream",
     "text": [
      "Creating staff object\n"
     ]
    }
   ],
   "source": [
    "#lets learn how to use this class\n",
    "#the imput below is for the 3 parameters position,name and pay. you dont need to add the self param. Python addsit for you.\n",
    "\n",
    "officeStaff1 = Staff(\"Basic\", \"Yvonne\", 0)"
   ]
  },
  {
   "cell_type": "code",
   "execution_count": 33,
   "metadata": {},
   "outputs": [
    {
     "data": {
      "text/plain": [
       "0"
      ]
     },
     "execution_count": 33,
     "metadata": {},
     "output_type": "execute_result"
    }
   ],
   "source": [
    "# now that we have created this object we can access it like below\n",
    "\n",
    "officeStaff1.name\n",
    "officeStaff1.position\n",
    "officeStaff1.pay"
   ]
  },
  {
   "cell_type": "code",
   "execution_count": 34,
   "metadata": {
    "collapsed": true
   },
   "outputs": [],
   "source": [
    "# the 3 instance variables can be changed\n",
    "officeStaff1.position = \"Manager\""
   ]
  },
  {
   "cell_type": "code",
   "execution_count": 35,
   "metadata": {},
   "outputs": [
    {
     "data": {
      "text/plain": [
       "'Manager'"
      ]
     },
     "execution_count": 35,
     "metadata": {},
     "output_type": "execute_result"
    }
   ],
   "source": [
    "officeStaff1.position"
   ]
  },
  {
   "cell_type": "code",
   "execution_count": 36,
   "metadata": {},
   "outputs": [
    {
     "name": "stdout",
     "output_type": "stream",
     "text": [
      "\n",
      "Enter number of hours worked for Yvonne: 7\n",
      "\n",
      "Enter hourly rate for Yvonne: 150\n"
     ]
    },
    {
     "data": {
      "text/plain": [
       "1050"
      ]
     },
     "execution_count": 36,
     "metadata": {},
     "output_type": "execute_result"
    }
   ],
   "source": [
    "# you can also call functions in the class.\n",
    "officeStaff1.calculatePay()"
   ]
  },
  {
   "cell_type": "code",
   "execution_count": 37,
   "metadata": {},
   "outputs": [
    {
     "data": {
      "text/plain": [
       "1050"
      ]
     },
     "execution_count": 37,
     "metadata": {},
     "output_type": "execute_result"
    }
   ],
   "source": [
    "#pay is updated when you do this.\n",
    "officeStaff1.pay"
   ]
  },
  {
   "cell_type": "code",
   "execution_count": 38,
   "metadata": {},
   "outputs": [
    {
     "name": "stdout",
     "output_type": "stream",
     "text": [
      "Position = Manager, Name = Yvonne, Pay = 1050\n"
     ]
    }
   ],
   "source": [
    "#when you print this the __str_methos is called and it prints it out nicely for you \n",
    "# i need to understand this at least to be able to use it \n",
    "\n",
    "print(officeStaff1)"
   ]
  },
  {
   "cell_type": "code",
   "execution_count": 39,
   "metadata": {
    "collapsed": true
   },
   "outputs": [],
   "source": [
    "##9.4 PROPERTIES\n",
    "\n",
    " # LETS TRY AND GET TO PAGE 98 TODAY\n",
    "# ADD A PROPERTY FOR THE POSITION VARIABLE\n",
    "# WE WANT THE POSITION TO BE SET TO BASIC OR MANAGER \n",
    "# WE ADD A UNDERSCORE BEFORE THE VARIABLE TO SIGNAL DONT TOUCH THIS \n",
    "# CHANGE self.position to self._position everywhere\n",
    "# now we add a property to that \n",
    "\n",
    "\n",
    "# the @property is known as a decorator \n",
    "# it changes the position method to a property \n",
    "\n",
    "class Staff:\n",
    "    \n",
    "    @property\n",
    "    def position(self):\n",
    "        print(\"Getter method\")\n",
    "        return self._position\n",
    "    \n",
    "    @position.setter\n",
    "    def position(self, value):\n",
    "        if value == \"Manager\" or value == \"Basic\":\n",
    "            self._position = value\n",
    "        else:\n",
    "            print(\"Position is invalid. No chages made.\")\n",
    "    \n",
    "    def __init__(self, pPosition, pName, pPay): \n",
    "        self._position = pPosition \n",
    "        self.name = pName \n",
    "        self.pay = pPay \n",
    "        print(\"Creating staff object\")\n",
    "    def __str__(self):\n",
    "        return \"Position = %s, Name = %s, Pay = %d\" %(self._position, self.name, self.pay)\n",
    "    def calculatePay(self):\n",
    "        prompt = \"\\nEnter number of hours worked for %s: \" %(self.name)\n",
    "        hours = input(prompt)\n",
    "        prompt = \"\\nEnter hourly rate for %s: \" %(self.name)\n",
    "        hourlyRate = input(prompt)\n",
    "        self.pay = int(hours)*int(hourlyRate)\n",
    "        return self.pay\n",
    "    "
   ]
  },
  {
   "cell_type": "code",
   "execution_count": 40,
   "metadata": {},
   "outputs": [
    {
     "name": "stdout",
     "output_type": "stream",
     "text": [
      "Creating staff object\n"
     ]
    }
   ],
   "source": [
    "officeStaff2 = Staff(\"Basic\", \"Dave\", 0)"
   ]
  },
  {
   "cell_type": "code",
   "execution_count": 43,
   "metadata": {},
   "outputs": [
    {
     "name": "stdout",
     "output_type": "stream",
     "text": [
      "Position is invalid. No chages made.\n"
     ]
    }
   ],
   "source": [
    "officeStaff2.position = \"Man\""
   ]
  },
  {
   "cell_type": "code",
   "execution_count": 45,
   "metadata": {},
   "outputs": [
    {
     "name": "stdout",
     "output_type": "stream",
     "text": [
      "Getter method\n"
     ]
    },
    {
     "ename": "TypeError",
     "evalue": "'str' object is not callable",
     "output_type": "error",
     "traceback": [
      "\u001b[1;31m---------------------------------------------------------------------------\u001b[0m",
      "\u001b[1;31mTypeError\u001b[0m                                 Traceback (most recent call last)",
      "\u001b[1;32m<ipython-input-45-261f8de4b5be>\u001b[0m in \u001b[0;36m<module>\u001b[1;34m()\u001b[0m\n\u001b[1;32m----> 1\u001b[1;33m \u001b[0mofficeStaff2\u001b[0m\u001b[1;33m.\u001b[0m\u001b[0mposition\u001b[0m\u001b[1;33m(\u001b[0m\u001b[1;33m)\u001b[0m\u001b[1;33m\u001b[0m\u001b[0m\n\u001b[0m",
      "\u001b[1;31mTypeError\u001b[0m: 'str' object is not callable"
     ]
    }
   ],
   "source": [
    "officeStaff2.position()"
   ]
  },
  {
   "cell_type": "code",
   "execution_count": 46,
   "metadata": {
    "collapsed": true
   },
   "outputs": [],
   "source": [
    "# the @property is known as a decorator and changes method to a property\n",
    "# it changes the position method to a property \n",
    "# whenever the compiler uses officeStaff2.position it should use the position() method that follows to get the value\n",
    "# returns value of _position"
   ]
  },
  {
   "cell_type": "code",
   "execution_count": null,
   "metadata": {
    "collapsed": true
   },
   "outputs": [],
   "source": [
    "# the @position.setter decorator followed by a second position() method\n",
    "# this is the setter method\n",
    "# it uses the position method that follows to set the _positon property if it is either \"Manager\" or \"Basic\""
   ]
  },
  {
   "cell_type": "code",
   "execution_count": 47,
   "metadata": {},
   "outputs": [
    {
     "name": "stdout",
     "output_type": "stream",
     "text": [
      "Getter method\n"
     ]
    },
    {
     "data": {
      "text/plain": [
       "'Manager'"
      ]
     },
     "execution_count": 47,
     "metadata": {},
     "output_type": "execute_result"
    }
   ],
   "source": [
    "officeStaff2.position"
   ]
  },
  {
   "cell_type": "code",
   "execution_count": 48,
   "metadata": {
    "collapsed": true
   },
   "outputs": [],
   "source": [
    "officeStaff2.position = \"Basic\""
   ]
  },
  {
   "cell_type": "code",
   "execution_count": 50,
   "metadata": {},
   "outputs": [
    {
     "name": "stdout",
     "output_type": "stream",
     "text": [
      "Getter method\n"
     ]
    },
    {
     "data": {
      "text/plain": [
       "'Basic'"
      ]
     },
     "execution_count": 50,
     "metadata": {},
     "output_type": "execute_result"
    }
   ],
   "source": [
    "#this is no longer accessing the varibable\n",
    "#it is now accessing the @position property\n",
    "\n",
    "##the setter method limits what the person can call as the job title.\n",
    "\n",
    "officeStaff2.position"
   ]
  },
  {
   "cell_type": "code",
   "execution_count": 60,
   "metadata": {},
   "outputs": [
    {
     "data": {
      "text/plain": [
       "5"
      ]
     },
     "execution_count": 60,
     "metadata": {},
     "output_type": "execute_result"
    }
   ],
   "source": [
    "# 9.5 name mangling \n",
    "\n",
    "## if you add a double underscroe in from of a variable it is send a strongmessage that you dont want people to access it\n",
    "\n",
    "class A:\n",
    "    def __init__(self):\n",
    "        self.__x = 5\n",
    "        self._y = 6\n",
    "        \n",
    "varA = A()\n",
    "varA._y\n",
    "#varA.__x you willget an error with this syntax\n",
    "\n",
    "# the double underscore makes it harder for someone to access the variable\n",
    "# they will haveto do this to access it \n",
    "\n",
    "varA._A__x"
   ]
  },
  {
   "cell_type": "code",
   "execution_count": 61,
   "metadata": {},
   "outputs": [],
   "source": [
    "#9.6 WHAT IS SELF \n",
    "\n",
    "#CLASS VS INSTANCE VARIABLES \n",
    "\n",
    "#A CLASS VARIABLE BELONGS TO A CLASS AND IS SHARED BY ALL INSTANCES OF THAT CLASS\n",
    "#IT IS DEFINED OUTSIDE ANY METHOD IN THE CLASS \n",
    "\n",
    "#AN INSTANCE VARIABLE IS DEFINED IS DEFINED INSIDE A METHOD AND BELONGS TO AN INSTANCE \n",
    "#IT IS ALWAYS PREFIXED WITH THE SELF KEYWORD\n",
    "\n",
    "#SELF "
   ]
  },
  {
   "cell_type": "code",
   "execution_count": 74,
   "metadata": {},
   "outputs": [
    {
     "name": "stdout",
     "output_type": "stream",
     "text": [
      "Company name is ProgrammingLab\n",
      "Salary is 2700\n"
     ]
    }
   ],
   "source": [
    "##EXAMPLE \n",
    "\n",
    "\n",
    "class ProgStaff:\n",
    "    companyName = \"ProgrammingLab\"\n",
    "    \n",
    "    def __init__(self, pSalary):\n",
    "        self.salary = pSalary\n",
    "        \n",
    "    def printInfo(self):\n",
    "        print(\"Company name is\", ProgStaff.companyName)\n",
    "        print(\"Salary is\", self.salary)\n",
    "        \n",
    "Peter = ProgStaff(2500)\n",
    "John =  ProgStaff(2700)\n",
    "\n",
    "John.printInfo()"
   ]
  },
  {
   "cell_type": "code",
   "execution_count": 75,
   "metadata": {},
   "outputs": [
    {
     "name": "stdout",
     "output_type": "stream",
     "text": [
      "Company name is ProgrammingSchool\n",
      "Salary is 2700\n"
     ]
    }
   ],
   "source": [
    "###This will udate everything in the ProgStaff class. \n",
    "\n",
    "ProgStaff.companyName = \"ProgrammingSchool\"\n",
    "John.printInfo()"
   ]
  },
  {
   "cell_type": "code",
   "execution_count": 76,
   "metadata": {},
   "outputs": [
    {
     "name": "stdout",
     "output_type": "stream",
     "text": [
      "ProgrammingSchool\n"
     ]
    }
   ],
   "source": [
    "print(Peter.companyName)"
   ]
  },
  {
   "cell_type": "code",
   "execution_count": 80,
   "metadata": {},
   "outputs": [
    {
     "name": "stdout",
     "output_type": "stream",
     "text": [
      "5000\n",
      "2700\n"
     ]
    }
   ],
   "source": [
    "#This will only update the instance of peter \n",
    "\n",
    "Peter.salary = 5000\n",
    "print(Peter.salary)\n",
    "print(John.salary)"
   ]
  },
  {
   "cell_type": "code",
   "execution_count": 81,
   "metadata": {},
   "outputs": [
    {
     "data": {
      "text/plain": [
       "'\\nClass variable\\n1. A class variable is defined outside of any method in the class \\n2. It can be accessed outside using the class name eg ProgStaff.companyName\\n3. Changing it affects all instances of the class. \\n\\nInstance variable \\n1. A instance variable is defined inside a method in the class and is prefixed with the self keyword\\n2. it can be accessed outside using the name of the instance eg Peter.salary = 5000\\n3. changing it only affects the specific instance \\n\\n'"
      ]
     },
     "execution_count": 81,
     "metadata": {},
     "output_type": "execute_result"
    }
   ],
   "source": [
    "\"\"\"\n",
    "Class variable\n",
    "1. A class variable is defined outside of any method in the class \n",
    "2. It can be accessed outside using the class name eg ProgStaff.companyName\n",
    "3. Changing it affects all instances of the class. \n",
    "\n",
    "Instance variable \n",
    "1. A instance variable is defined inside a method in the class and is prefixed with the self keyword\n",
    "2. it can be accessed outside using the name of the instance eg Peter.salary = 5000\n",
    "3. changing it only affects the specific instance \n",
    "\n",
    "Instance Method\n",
    "1. A instance method has self as one of its parameters \n",
    "2. if it has more than one parameter, self must be the first one \n",
    "3. inside the method we use the class name to access the class variable comany name eg\n",
    "Company name is, ProgStaff.companyName\n",
    "4.\n",
    "\n",
    "\"\"\"\n"
   ]
  },
  {
   "cell_type": "code",
   "execution_count": 82,
   "metadata": {
    "collapsed": true
   },
   "outputs": [],
   "source": [
    "###you only have 40 more pages to go \n",
    "###you can do this \n",
    "###"
   ]
  },
  {
   "cell_type": "code",
   "execution_count": 83,
   "metadata": {
    "collapsed": true
   },
   "outputs": [],
   "source": [
    "# 9.7 class and static methods\n",
    "\n",
    "class MethodDemo:\n",
    "    a = 1\n",
    "    \n",
    "    @classmethod\n",
    "    def classM(cls):\n",
    "        print(\"Class Method. cls.a = \", cls.a)\n",
    "        \n",
    "    @staticmethod\n",
    "    def staticM():\n",
    "        print(\"Static method\")\n",
    "    \n",
    "\n",
    "    "
   ]
  },
  {
   "cell_type": "code",
   "execution_count": 84,
   "metadata": {},
   "outputs": [
    {
     "name": "stdout",
     "output_type": "stream",
     "text": [
      "Class Method. cls.a =  1\n"
     ]
    }
   ],
   "source": [
    "MethodDemo.classM()"
   ]
  },
  {
   "cell_type": "code",
   "execution_count": 85,
   "metadata": {},
   "outputs": [
    {
     "name": "stdout",
     "output_type": "stream",
     "text": [
      "Class Method. cls.a =  1\n"
     ]
    }
   ],
   "source": [
    "md1 = MethodDemo()\n",
    "md1.classM()"
   ]
  },
  {
   "cell_type": "code",
   "execution_count": 86,
   "metadata": {},
   "outputs": [
    {
     "name": "stdout",
     "output_type": "stream",
     "text": [
      "Static method\n"
     ]
    }
   ],
   "source": [
    "md1.staticM()"
   ]
  },
  {
   "cell_type": "code",
   "execution_count": 88,
   "metadata": {},
   "outputs": [
    {
     "name": "stdout",
     "output_type": "stream",
     "text": [
      "Static method\n"
     ]
    }
   ],
   "source": [
    "MethodDemo.staticM()"
   ]
  },
  {
   "cell_type": "code",
   "execution_count": 89,
   "metadata": {
    "collapsed": true
   },
   "outputs": [],
   "source": [
    "# 9.8 importing a class \n",
    "# we want to import a class into a application \n",
    "\n",
    "# we need to save a class as seperate file and import this into the application \n",
    "# save this file out to a component \n",
    "\n",
    "class SomeClass:\n",
    "    def __init__(self):\n",
    "        print(\"This is SomeClass\")\n",
    "    def someMethod(self, a):\n",
    "        print(\"The value of a is\", a)\n",
    "        self.b = 5 \n",
    "        \n",
    "class SomeOtherClass:\n",
    "    def __init__(self):\n",
    "        print(\"This is SomeOtherClass\")\n",
    "        "
   ]
  },
  {
   "cell_type": "code",
   "execution_count": 91,
   "metadata": {},
   "outputs": [],
   "source": [
    "import sys\n",
    "sys.path.append(r\"C:\\Users\\chida\\learn python in a day\\Myclass\")\n",
    "import myclass "
   ]
  },
  {
   "cell_type": "code",
   "execution_count": 96,
   "metadata": {},
   "outputs": [
    {
     "name": "stdout",
     "output_type": "stream",
     "text": [
      "This is SomeClass\n",
      "The value of a is 100\n",
      "This is SomeOtherClass\n"
     ]
    }
   ],
   "source": [
    "##\n",
    "\n",
    "sc = myclass.SomeClass()\n",
    "sc.someMethod(100)\n",
    "soc = myclass.SomeOtherClass()"
   ]
  },
  {
   "cell_type": "code",
   "execution_count": 98,
   "metadata": {},
   "outputs": [
    {
     "name": "stdout",
     "output_type": "stream",
     "text": [
      "<myclass.SomeClass object at 0x00000258C94AC7B8>\n"
     ]
    }
   ],
   "source": [
    "print(sc)"
   ]
  },
  {
   "cell_type": "code",
   "execution_count": 99,
   "metadata": {
    "collapsed": true
   },
   "outputs": [],
   "source": [
    "from myclass import SomeClass, SomeOtherClass"
   ]
  },
  {
   "cell_type": "code",
   "execution_count": 100,
   "metadata": {
    "collapsed": true
   },
   "outputs": [],
   "source": [
    "sc = SomeClass"
   ]
  },
  {
   "cell_type": "code",
   "execution_count": 101,
   "metadata": {},
   "outputs": [
    {
     "name": "stdout",
     "output_type": "stream",
     "text": [
      "<class 'myclass.SomeClass'>\n"
     ]
    }
   ],
   "source": [
    "print(sc)"
   ]
  },
  {
   "cell_type": "code",
   "execution_count": null,
   "metadata": {
    "collapsed": true
   },
   "outputs": [],
   "source": []
  }
 ],
 "metadata": {
  "kernelspec": {
   "display_name": "Python 3",
   "language": "python",
   "name": "python3"
  },
  "language_info": {
   "codemirror_mode": {
    "name": "ipython",
    "version": 3
   },
   "file_extension": ".py",
   "mimetype": "text/x-python",
   "name": "python",
   "nbconvert_exporter": "python",
   "pygments_lexer": "ipython3",
   "version": "3.6.1"
  }
 },
 "nbformat": 4,
 "nbformat_minor": 2
}
