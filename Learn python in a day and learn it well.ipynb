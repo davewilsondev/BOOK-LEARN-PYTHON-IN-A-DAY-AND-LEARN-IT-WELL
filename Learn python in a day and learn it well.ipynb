{
 "cells": [
  {
   "cell_type": "markdown",
   "metadata": {},
   "source": [
    "Chapter 2"
   ]
  },
  {
   "cell_type": "code",
   "execution_count": 1,
   "metadata": {},
   "outputs": [
    {
     "name": "stdout",
     "output_type": "stream",
     "text": [
      "hello world\n"
     ]
    }
   ],
   "source": [
    "print(\"Hello world\")"
   ]
  },
  {
   "cell_type": "code",
   "execution_count": 2,
   "metadata": {},
   "outputs": [
    {
     "data": {
      "text/plain": [
       "5"
      ]
     },
     "execution_count": 2,
     "metadata": {},
     "output_type": "execute_result"
    }
   ],
   "source": [
    "2+3"
   ]
  },
  {
   "cell_type": "code",
   "execution_count": 3,
   "metadata": {},
   "outputs": [
    {
     "data": {
      "text/plain": [
       "True"
      ]
     },
     "execution_count": 3,
     "metadata": {},
     "output_type": "execute_result"
    }
   ],
   "source": [
    "3>2"
   ]
  },
  {
   "cell_type": "code",
   "execution_count": 4,
   "metadata": {
    "collapsed": true
   },
   "outputs": [],
   "source": [
    "#This is a comment"
   ]
  },
  {
   "cell_type": "code",
   "execution_count": 5,
   "metadata": {},
   "outputs": [
    {
     "data": {
      "text/plain": [
       "'This is \\nalso a \\ncomment'"
      ]
     },
     "execution_count": 5,
     "metadata": {},
     "output_type": "execute_result"
    }
   ],
   "source": [
    "\"\"\"This is \n",
    "also a \n",
    "comment\"\"\""
   ]
  },
  {
   "cell_type": "markdown",
   "metadata": {},
   "source": [
    "Chapter 3 - Variables"
   ]
  },
  {
   "cell_type": "code",
   "execution_count": 6,
   "metadata": {
    "collapsed": true
   },
   "outputs": [],
   "source": [
    "userAge = 0 "
   ]
  },
  {
   "cell_type": "code",
   "execution_count": 7,
   "metadata": {
    "collapsed": true
   },
   "outputs": [],
   "source": [
    "userAge, userName = 31, \"Dave\""
   ]
  },
  {
   "cell_type": "code",
   "execution_count": 8,
   "metadata": {},
   "outputs": [
    {
     "name": "stdout",
     "output_type": "stream",
     "text": [
      "Dave\n"
     ]
    }
   ],
   "source": [
    "print(userName)"
   ]
  },
  {
   "cell_type": "code",
   "execution_count": 9,
   "metadata": {
    "collapsed": true
   },
   "outputs": [],
   "source": [
    "# It is prefered that you type variables in Camel case i.e userName\n",
    "# but you can use underscrores user_name\n"
   ]
  },
  {
   "cell_type": "code",
   "execution_count": 10,
   "metadata": {},
   "outputs": [
    {
     "name": "stdout",
     "output_type": "stream",
     "text": [
      "x =  10\n",
      "y =  10\n"
     ]
    }
   ],
   "source": [
    "x = 5 \n",
    "y = 10 \n",
    "x = y\n",
    "\n",
    "print(\"x = \", x)\n",
    "print(\"y = \", y)"
   ]
  },
  {
   "cell_type": "code",
   "execution_count": 11,
   "metadata": {},
   "outputs": [
    {
     "name": "stdout",
     "output_type": "stream",
     "text": [
      "x =  5\n",
      "y =  5\n"
     ]
    }
   ],
   "source": [
    "x = 5 \n",
    "y = 10 \n",
    "y = x\n",
    "\n",
    "print(\"x = \", x)\n",
    "print(\"y = \", y)"
   ]
  },
  {
   "cell_type": "code",
   "execution_count": 14,
   "metadata": {},
   "outputs": [
    {
     "name": "stdout",
     "output_type": "stream",
     "text": [
      "7\n",
      "3\n",
      "10\n",
      "2.5\n",
      "2\n",
      "1\n",
      "25\n"
     ]
    }
   ],
   "source": [
    "x, y = 5, 2\n",
    "\n",
    "print(x+y)\n",
    "print(x-y)\n",
    "print(x*y)\n",
    "print(x/y)\n",
    "print(x//y)\n",
    "print(x%y)\n",
    "print(x**y)\n"
   ]
  },
  {
   "cell_type": "code",
   "execution_count": 15,
   "metadata": {},
   "outputs": [
    {
     "data": {
      "text/plain": [
       "125"
      ]
     },
     "execution_count": 15,
     "metadata": {},
     "output_type": "execute_result"
    }
   ],
   "source": [
    "5**3"
   ]
  },
  {
   "cell_type": "code",
   "execution_count": 17,
   "metadata": {},
   "outputs": [
    {
     "name": "stdout",
     "output_type": "stream",
     "text": [
      "12\n"
     ]
    }
   ],
   "source": [
    "x = 10\n",
    "x = x+2\n",
    "\n",
    "print(x)"
   ]
  },
  {
   "cell_type": "code",
   "execution_count": 21,
   "metadata": {},
   "outputs": [
    {
     "data": {
      "text/plain": [
       "12"
      ]
     },
     "execution_count": 21,
     "metadata": {},
     "output_type": "execute_result"
    }
   ],
   "source": [
    "x = 10\n",
    "x += 2\n",
    "x"
   ]
  },
  {
   "cell_type": "code",
   "execution_count": 23,
   "metadata": {},
   "outputs": [
    {
     "data": {
      "text/plain": [
       "8"
      ]
     },
     "execution_count": 23,
     "metadata": {},
     "output_type": "execute_result"
    }
   ],
   "source": [
    "x =10 \n",
    "x-=2\n",
    "x"
   ]
  },
  {
   "cell_type": "code",
   "execution_count": 24,
   "metadata": {},
   "outputs": [
    {
     "data": {
      "text/plain": [
       "30"
      ]
     },
     "execution_count": 24,
     "metadata": {},
     "output_type": "execute_result"
    }
   ],
   "source": [
    "x = 10\n",
    "x *= 3\n",
    "x"
   ]
  },
  {
   "cell_type": "code",
   "execution_count": 25,
   "metadata": {},
   "outputs": [
    {
     "data": {
      "text/plain": [
       "5.0"
      ]
     },
     "execution_count": 25,
     "metadata": {},
     "output_type": "execute_result"
    }
   ],
   "source": [
    "x = 10\n",
    "x /=2\n",
    "x"
   ]
  },
  {
   "cell_type": "code",
   "execution_count": 26,
   "metadata": {},
   "outputs": [
    {
     "data": {
      "text/plain": [
       "5"
      ]
     },
     "execution_count": 26,
     "metadata": {},
     "output_type": "execute_result"
    }
   ],
   "source": [
    "x = 10 \n",
    "x //= 2\n",
    "x"
   ]
  },
  {
   "cell_type": "code",
   "execution_count": 28,
   "metadata": {},
   "outputs": [
    {
     "data": {
      "text/plain": [
       "0"
      ]
     },
     "execution_count": 28,
     "metadata": {},
     "output_type": "execute_result"
    }
   ],
   "source": [
    "x = 10\n",
    "x %= 2\n",
    "x"
   ]
  },
  {
   "cell_type": "code",
   "execution_count": 30,
   "metadata": {},
   "outputs": [
    {
     "data": {
      "text/plain": [
       "100"
      ]
     },
     "execution_count": 30,
     "metadata": {},
     "output_type": "execute_result"
    }
   ],
   "source": [
    "x = 10\n",
    "x **= 2\n",
    "x"
   ]
  },
  {
   "cell_type": "markdown",
   "metadata": {},
   "source": [
    "Chapter 4 - Data Types "
   ]
  },
  {
   "cell_type": "code",
   "execution_count": 31,
   "metadata": {},
   "outputs": [
    {
     "data": {
      "text/plain": [
       "'PETER'"
      ]
     },
     "execution_count": 31,
     "metadata": {},
     "output_type": "execute_result"
    }
   ],
   "source": [
    "\"peter\".upper()"
   ]
  },
  {
   "cell_type": "code",
   "execution_count": 37,
   "metadata": {},
   "outputs": [
    {
     "data": {
      "text/plain": [
       "'The price of this Apple laptop is 1299 USD and the exchange rate is 1.2352 USD to 1 EUR'"
      ]
     },
     "execution_count": 37,
     "metadata": {},
     "output_type": "execute_result"
    }
   ],
   "source": [
    "brand = \"Apple\"\n",
    "\n",
    "exchangeRate = 1.235235245\n",
    "\n",
    "message = \"The price of this %s laptop is %d USD and the exchange rate is %4.4f USD to 1 EUR\" %(brand, 1299, exchangeRate)\n",
    "\n",
    "message"
   ]
  },
  {
   "cell_type": "code",
   "execution_count": 4,
   "metadata": {},
   "outputs": [
    {
     "data": {
      "text/plain": [
       "'The price of this Apple laptop is 1299 USD and the exchange rate is 1.235235245 USD to 1 EUR'"
      ]
     },
     "execution_count": 4,
     "metadata": {},
     "output_type": "execute_result"
    }
   ],
   "source": [
    "brand = \"Apple\"\n",
    "#can we format this float at this point?\n",
    "exchangeRate = 1.235235245\n",
    "\n",
    "message = \"The price of this {} laptop is {} USD and the exchange rate is {} USD to 1 EUR\" .format(brand, 1299, exchangeRate)\n",
    "\n",
    "message"
   ]
  },
  {
   "cell_type": "code",
   "execution_count": 39,
   "metadata": {},
   "outputs": [
    {
     "data": {
      "text/plain": [
       "'The price of this Apple laptop is 1299 USD and the exchange rate is 1.24 USD to 1 EUR'"
      ]
     },
     "execution_count": 39,
     "metadata": {},
     "output_type": "execute_result"
    }
   ],
   "source": [
    "brand = \"Apple\"\n",
    "\n",
    "exchangeRate = 1.235235245\n",
    "\n",
    "message = \"The price of this {0:s} laptop is {1:d} USD and the exchange rate is {2:4.2f} USD to 1 EUR\" .format(brand, 1299, exchangeRate)\n",
    "\n",
    "message"
   ]
  },
  {
   "cell_type": "code",
   "execution_count": 11,
   "metadata": {},
   "outputs": [
    {
     "name": "stdout",
     "output_type": "stream",
     "text": [
      "Python is easier that Java\n"
     ]
    }
   ],
   "source": [
    "message1  = \"{0} is easier that {1}\".format(\"Python\", \"Java\")\n",
    "message2  = \"{1} is easier that {0}\".format(\"Python\", \"Java\")\n",
    "message3  = \"{:10.2f} and {:d}\".format(1.234234234, 12)\n",
    "message4  = \"{}\".format(1.234234234)\n",
    "\n",
    "print(message1)"
   ]
  },
  {
   "cell_type": "code",
   "execution_count": null,
   "metadata": {
    "collapsed": true
   },
   "outputs": [],
   "source": [
    "# Type casting \n",
    "# int()\n",
    "# float()\n",
    "# string()"
   ]
  },
  {
   "cell_type": "code",
   "execution_count": 34,
   "metadata": {},
   "outputs": [
    {
     "data": {
      "text/plain": [
       "[21, 5, 24, 25, 99]"
      ]
     },
     "execution_count": 34,
     "metadata": {},
     "output_type": "execute_result"
    }
   ],
   "source": [
    "# Lists\n",
    "userAge = [21,22,23,24,25]\n",
    "userAge[1]\n",
    "userAge[-2]\n",
    "\n",
    "userAge2 = userAge \n",
    "#Does this create a new list or just a reference?\n",
    "\n",
    "userAge3 = userAge[2:4]\n",
    "#slice from 2 to 3(4 - 1 or the beginning of 4)\n",
    "\n",
    "userAge4 = userAge[1:5:2]\n",
    "#slice from 1 - 4(5-1 or the beginning of 5) the last digit is the step.\n",
    "\n",
    "userAge5 = userAge[:3]\n",
    "#gives values from 0 to 2(3-1 or the beginning of 3)\n",
    "\n",
    "userAge6 = userAge[1:]\n",
    "#gives values from 2 to the end\n",
    "\n",
    "userAge[1] = 5\n",
    "#This can be used to modify the list\n",
    "\n",
    "userAge.append(99)\n",
    "\n",
    "del userAge[2]\n",
    "\n",
    "userAge\n",
    "\n",
    "\n"
   ]
  },
  {
   "cell_type": "code",
   "execution_count": 50,
   "metadata": {},
   "outputs": [
    {
     "name": "stdout",
     "output_type": "stream",
     "text": [
      "[1, 2, 3, 4, 5, 'Hello']\n",
      "3\n",
      "Hello\n",
      "[2, 3, 4, 5]\n",
      "6\n"
     ]
    }
   ],
   "source": [
    "\n",
    "#Declaring the list  - list elements can be of different data types\n",
    "myList = [1,2,3,4,5, \"Hello\"]\n",
    "\n",
    "print(myList)\n",
    "print(myList[2])\n",
    "print(myList[-1])\n",
    "myList2 = myList[1:5]\n",
    "print(myList2)\n",
    "myList[1] = 20\n",
    "myList.append(\"How are you\")\n",
    "del myList[5]\n",
    "print(len(myList))"
   ]
  },
  {
   "cell_type": "code",
   "execution_count": 54,
   "metadata": {},
   "outputs": [
    {
     "name": "stdout",
     "output_type": "stream",
     "text": [
      "('Jan', 'Feb', 'Mar', 'Apr', 'May', 'Jun', 'Jul', 'Aug', 'Sep', 'Oct', 'Nov', 'Dec')\n"
     ]
    },
    {
     "data": {
      "text/plain": [
       "'Feb'"
      ]
     },
     "execution_count": 54,
     "metadata": {},
     "output_type": "execute_result"
    }
   ],
   "source": [
    "#Tuples are immutable and cannot be changed. They are fixed once set.\n",
    "#Tuples are created with parentheses\n",
    "monthsOfYear = (\"Jan\", \"Feb\", \"Mar\", \"Apr\", \"May\", \"Jun\", \"Jul\", \"Aug\", \"Sep\", \"Oct\", \"Nov\", \"Dec\")\n",
    "\n",
    "print(monthsOfYear)\n",
    "len(monthsOfYear)\n",
    "\n",
    "monthsOfYear[1]"
   ]
  },
  {
   "cell_type": "code",
   "execution_count": 64,
   "metadata": {},
   "outputs": [
    {
     "data": {
      "text/plain": [
       "{'Alex': 13, 'Alvin': 'Not available', 'John': 51, 'Peter': 21}"
      ]
     },
     "execution_count": 64,
     "metadata": {},
     "output_type": "execute_result"
    }
   ],
   "source": [
    "#Dictionaries\n",
    "#Dictionaries are created with curly brackets\n",
    "myDictionary = {\"PeterD\":38, \"John\":51, \"PeterW\":13}\n",
    "myDictionary[\"PeterD\"]\n",
    "\n",
    "\n",
    "userNameAndAge = {\"Peter\":38, \"John\":51, \"Alex\":13, \"Alvin\":\"Not Available\" }\n",
    "\n",
    "#Dictionaries can also be created using the dict function \n",
    "#You dont have to put the quotation marks for string when you use the dict function. \n",
    "userNameAndAge1 = dict(Peter = 38, John = 51, Alex = 13, Alvin = \"Not available\")\n",
    "userNameAndAge1[\"Peter\"] = 21\n",
    "\n",
    "userNameAndAge1"
   ]
  },
  {
   "cell_type": "code",
   "execution_count": 66,
   "metadata": {},
   "outputs": [
    {
     "data": {
      "text/plain": [
       "{}"
      ]
     },
     "execution_count": 66,
     "metadata": {},
     "output_type": "execute_result"
    }
   ],
   "source": [
    "###We can assign a dictionary without adding any values to it. \n",
    "\n",
    "userNameAndAge = {}\n",
    "#Add a item to the dictionary \n",
    "userNameAndAge[\"Dave\"]=31\n",
    "\n",
    "#Delete a item from the dictionary\n",
    "del userNameAndAge[\"Dave\"]\n",
    "\n",
    "userNameAndAge"
   ]
  },
  {
   "cell_type": "code",
   "execution_count": 74,
   "metadata": {},
   "outputs": [
    {
     "data": {
      "text/plain": [
       "{2.5: 'Two and a Half', 3: '+', 7.9: 2, 'New Item': \"I'm new\"}"
      ]
     },
     "execution_count": 74,
     "metadata": {},
     "output_type": "execute_result"
    }
   ],
   "source": [
    "myDict = {\"One\":1.35, 2.5:\"Two point five\", 3:\"+\", 7.9:2}\n",
    "myDict[7.9]\n",
    "myDict[2.5] = \"Two and a Half\"\n",
    "myDict[\"New Item\"] = \"I'm new\"\n",
    "del myDict[\"One\"]\n",
    "myDict"
   ]
  },
  {
   "cell_type": "code",
   "execution_count": 75,
   "metadata": {},
   "outputs": [
    {
     "name": "stdout",
     "output_type": "stream",
     "text": [
      "Please enter your name: Dave\n",
      "Please enter your age: 32\n",
      "My name is  Dave  and I am  32  years old.\n"
     ]
    }
   ],
   "source": [
    "myName  = input(\"Please enter your name: \")\n",
    "myAge = input(\"Please enter your age: \")\n",
    "\n",
    "print(\"My name is \", myName, \" and I am \", myAge, \" years old.\")"
   ]
  },
  {
   "cell_type": "code",
   "execution_count": 76,
   "metadata": {},
   "outputs": [
    {
     "name": "stdout",
     "output_type": "stream",
     "text": [
      "Please enter your name: Dave\n",
      "Hi Dave, what about your age32\n",
      "My name is  Dave  and I am  32  years old.\n"
     ]
    }
   ],
   "source": [
    "myName  = input(\"Please enter your name: \")\n",
    "myAge = input(\"Hi %s, what about your age\" %(myName))\n",
    "\n",
    "print(\"My name is \", myName, \" and I am \", myAge, \" years old.\")"
   ]
  },
  {
   "cell_type": "code",
   "execution_count": 77,
   "metadata": {},
   "outputs": [
    {
     "name": "stdout",
     "output_type": "stream",
     "text": [
      "Please enter your name: Dave\n",
      "Hi Dave, what about your age32\n",
      "My name is  Dave  and I am  32  years old.\n"
     ]
    }
   ],
   "source": [
    "myName  = input(\"Please enter your name: \")\n",
    "myAge = input(\"Hi {}, what about your age\".format(myName))\n",
    "\n",
    "print(\"My name is \", myName, \" and I am \", myAge, \" years old.\")"
   ]
  },
  {
   "cell_type": "code",
   "execution_count": 78,
   "metadata": {
    "collapsed": true
   },
   "outputs": [],
   "source": [
    "####ESCAPE CHARACTERS#####\n",
    "\n",
    "# \\t = tab\n",
    "# \\n = newline\n",
    "# \\\\ prints the backslash\n",
    "# r\"Hello world\" makes it a raw string\n",
    "# "
   ]
  },
  {
   "cell_type": "code",
   "execution_count": 79,
   "metadata": {
    "collapsed": true
   },
   "outputs": [],
   "source": [
    "###CHAPTER 6###\n",
    "###############"
   ]
  },
  {
   "cell_type": "code",
   "execution_count": 80,
   "metadata": {},
   "outputs": [
    {
     "data": {
      "text/plain": [
       "True"
      ]
     },
     "execution_count": 80,
     "metadata": {},
     "output_type": "execute_result"
    }
   ],
   "source": [
    "#Conditional statements \n",
    "5 != 2"
   ]
  },
  {
   "cell_type": "code",
   "execution_count": 81,
   "metadata": {},
   "outputs": [
    {
     "data": {
      "text/plain": [
       "True"
      ]
     },
     "execution_count": 81,
     "metadata": {},
     "output_type": "execute_result"
    }
   ],
   "source": [
    "5>2"
   ]
  },
  {
   "cell_type": "code",
   "execution_count": 82,
   "metadata": {},
   "outputs": [
    {
     "data": {
      "text/plain": [
       "True"
      ]
     },
     "execution_count": 82,
     "metadata": {},
     "output_type": "execute_result"
    }
   ],
   "source": [
    "2<5"
   ]
  },
  {
   "cell_type": "code",
   "execution_count": 83,
   "metadata": {},
   "outputs": [
    {
     "data": {
      "text/plain": [
       "True"
      ]
     },
     "execution_count": 83,
     "metadata": {},
     "output_type": "execute_result"
    }
   ],
   "source": [
    "5>=2"
   ]
  },
  {
   "cell_type": "code",
   "execution_count": 84,
   "metadata": {},
   "outputs": [
    {
     "data": {
      "text/plain": [
       "True"
      ]
     },
     "execution_count": 84,
     "metadata": {},
     "output_type": "execute_result"
    }
   ],
   "source": [
    "5>=5"
   ]
  },
  {
   "cell_type": "code",
   "execution_count": 85,
   "metadata": {},
   "outputs": [
    {
     "data": {
      "text/plain": [
       "True"
      ]
     },
     "execution_count": 85,
     "metadata": {},
     "output_type": "execute_result"
    }
   ],
   "source": [
    "2<=5"
   ]
  },
  {
   "cell_type": "code",
   "execution_count": 86,
   "metadata": {},
   "outputs": [
    {
     "data": {
      "text/plain": [
       "True"
      ]
     },
     "execution_count": 86,
     "metadata": {},
     "output_type": "execute_result"
    }
   ],
   "source": [
    "5<=5"
   ]
  },
  {
   "cell_type": "code",
   "execution_count": 91,
   "metadata": {},
   "outputs": [
    {
     "data": {
      "text/plain": [
       "True"
      ]
     },
     "execution_count": 91,
     "metadata": {},
     "output_type": "execute_result"
    }
   ],
   "source": [
    "###we also have the logical operators and, or, not\n",
    "\n",
    "## the and operator returns true if both conditions are met \n",
    "5==5 and 4 != 5\n",
    "\n",
    "\n",
    "## the or requires just one of them to betrue to return true \n",
    "5==5 or 4>5"
   ]
  },
  {
   "cell_type": "code",
   "execution_count": 92,
   "metadata": {},
   "outputs": [
    {
     "data": {
      "text/plain": [
       "True"
      ]
     },
     "execution_count": 92,
     "metadata": {},
     "output_type": "execute_result"
    }
   ],
   "source": [
    "not 4>5"
   ]
  },
  {
   "cell_type": "code",
   "execution_count": 95,
   "metadata": {},
   "outputs": [
    {
     "name": "stdout",
     "output_type": "stream",
     "text": [
      "Enter 1 or 2: 2\n",
      "Python rocks!\n",
      "I love python\n"
     ]
    }
   ],
   "source": [
    "###if statements\n",
    "\n",
    "userInput = input(\"Enter 1 or 2: \")\n",
    "if userInput == \"1\":\n",
    "    print(\"Hello world\")\n",
    "    print(\"How are you?\")\n",
    "    \n",
    "elif userInput == \"2\":\n",
    "    print(\"Python rocks!\")\n",
    "    print(\"I love python\")\n",
    "else:\n",
    "    print(\"You did not enter a valid number.\")\n",
    "    "
   ]
  },
  {
   "cell_type": "code",
   "execution_count": 97,
   "metadata": {},
   "outputs": [
    {
     "name": "stdout",
     "output_type": "stream",
     "text": [
      "Enter 1 or 2: 1\n",
      "12\n"
     ]
    }
   ],
   "source": [
    "##inline if statement \n",
    "userInput = input(\"Enter 1 or 2: \")\n",
    "num1 = 12 if userInput == \"1\" else 13\n",
    "print(num1)"
   ]
  },
  {
   "cell_type": "code",
   "execution_count": 99,
   "metadata": {},
   "outputs": [
    {
     "name": "stdout",
     "output_type": "stream",
     "text": [
      "Enter 1 or 2: 2\n",
      "This is task b\n"
     ]
    }
   ],
   "source": [
    "userInput = input(\"Enter 1 or 2: \")\n",
    "print(\"This is task A\" if userInput == \"1\" else \"This is task b\")"
   ]
  },
  {
   "cell_type": "code",
   "execution_count": 101,
   "metadata": {},
   "outputs": [
    {
     "name": "stdout",
     "output_type": "stream",
     "text": [
      "H\n",
      "e\n",
      "l\n",
      "p\n",
      " \n",
      "m\n",
      "e\n"
     ]
    }
   ],
   "source": [
    "###for loops \n",
    "iterable = \"Help me\"\n",
    "for a in iterable:\n",
    "    print(a)"
   ]
  },
  {
   "cell_type": "code",
   "execution_count": 102,
   "metadata": {},
   "outputs": [
    {
     "name": "stdout",
     "output_type": "stream",
     "text": [
      "cats\n",
      "dogs\n",
      "rabits\n",
      "hamsters\n"
     ]
    }
   ],
   "source": [
    "pets = [\"cats\", \"dogs\", \"rabits\", \"hamsters\"]\n",
    "\n",
    "for myPets in pets:\n",
    "    print(myPets)"
   ]
  },
  {
   "cell_type": "code",
   "execution_count": 104,
   "metadata": {},
   "outputs": [
    {
     "name": "stdout",
     "output_type": "stream",
     "text": [
      "0 cats\n",
      "1 dogs\n",
      "2 rabits\n",
      "3 hamsters\n"
     ]
    }
   ],
   "source": [
    "###if you want to display the index of the printed list use the enumerate function\n",
    "\n",
    "for i, myPets in enumerate(pets):\n",
    "    print(i, myPets)\n"
   ]
  },
  {
   "cell_type": "code",
   "execution_count": 105,
   "metadata": {},
   "outputs": [
    {
     "name": "stdout",
     "output_type": "stream",
     "text": [
      "Peter\n",
      "John\n"
     ]
    }
   ],
   "source": [
    "##you can use loop the same on a dictionary \n",
    "\n",
    "age = {\"Peter\":31, \"John\":322}\n",
    "\n",
    "for i in age:\n",
    "    print(i)"
   ]
  },
  {
   "cell_type": "code",
   "execution_count": 110,
   "metadata": {},
   "outputs": [
    {
     "name": "stdout",
     "output_type": "stream",
     "text": [
      "Name = Peter, Age = 31\n",
      "Name = John, Age = 322\n"
     ]
    }
   ],
   "source": [
    "###this is a good one to understand. \n",
    "\n",
    "age = {\"Peter\":31, \"John\":322}\n",
    "\n",
    "for i in age:\n",
    "    print(\"Name = %s, Age = %d\" %(i, age[i]))"
   ]
  },
  {
   "cell_type": "code",
   "execution_count": 111,
   "metadata": {},
   "outputs": [
    {
     "name": "stdout",
     "output_type": "stream",
     "text": [
      "Name = Peter, Age = 31\n",
      "Name = John, Age = 322\n"
     ]
    }
   ],
   "source": [
    "###just to confuse things a little further.\n",
    "\n",
    "age = {\"Peter\":31, \"John\":322}\n",
    "\n",
    "for i,j in age.items():\n",
    "    print(\"Name = %s, Age = %d\" %(i, j))"
   ]
  },
  {
   "cell_type": "code",
   "execution_count": 112,
   "metadata": {},
   "outputs": [
    {
     "name": "stdout",
     "output_type": "stream",
     "text": [
      "H\n",
      "e\n",
      "l\n",
      "l\n",
      "o\n"
     ]
    }
   ],
   "source": [
    "message = \"Hello\"\n",
    "\n",
    "for i in message:\n",
    "    print(i)"
   ]
  },
  {
   "cell_type": "code",
   "execution_count": 118,
   "metadata": {},
   "outputs": [
    {
     "name": "stdout",
     "output_type": "stream",
     "text": [
      "range(0, 5)\n",
      "0\n",
      "1\n",
      "2\n",
      "3\n",
      "4\n"
     ]
    }
   ],
   "source": [
    "#### looping througha sequence of numbers\n",
    "x = range(5)\n",
    "print(x)\n",
    "for i in x:\n",
    "    print (i)"
   ]
  },
  {
   "cell_type": "code",
   "execution_count": 117,
   "metadata": {},
   "outputs": [
    {
     "name": "stdout",
     "output_type": "stream",
     "text": [
      "range(3, 10)\n",
      "3\n",
      "4\n",
      "5\n",
      "6\n",
      "7\n",
      "8\n",
      "9\n"
     ]
    }
   ],
   "source": [
    "x = range(3,10)\n",
    "print(x)\n",
    "\n",
    "for i in x:\n",
    "    print (i)"
   ]
  },
  {
   "cell_type": "code",
   "execution_count": 119,
   "metadata": {},
   "outputs": [
    {
     "name": "stdout",
     "output_type": "stream",
     "text": [
      "range(3, 10, 2)\n",
      "3\n",
      "5\n",
      "7\n",
      "9\n"
     ]
    }
   ],
   "source": [
    "x = range(3,10,2)\n",
    "print(x)\n",
    "\n",
    "for i in x:\n",
    "    print (i)"
   ]
  },
  {
   "cell_type": "code",
   "execution_count": 120,
   "metadata": {},
   "outputs": [
    {
     "name": "stdout",
     "output_type": "stream",
     "text": [
      "Counter =  5\n",
      "Counter =  4\n",
      "Counter =  3\n",
      "Counter =  2\n",
      "Counter =  1\n"
     ]
    }
   ],
   "source": [
    "### While loops\n",
    "\n",
    "counter = 5\n",
    "\n",
    "while counter > 0:\n",
    "    print(\"Counter = \", counter)\n",
    "    counter -= 1\n",
    "    \n",
    "    ##you need to subtract 1 or you will get an infinite loop "
   ]
  },
  {
   "cell_type": "code",
   "execution_count": 123,
   "metadata": {},
   "outputs": [
    {
     "name": "stdout",
     "output_type": "stream",
     "text": [
      "i= 0 j= 2\n",
      "i= 1 j= 4\n",
      "i= 2 j= 6\n",
      "i= 3 j= 8\n",
      "i= 4 j= 10\n"
     ]
    }
   ],
   "source": [
    "###breaks \n",
    "###break stops the loop at this point. \n",
    "\n",
    "j = 0 \n",
    "\n",
    "for i in range(5):\n",
    "    j+=2\n",
    "    print(\"i=\",i, \"j=\",j)\n",
    "    #if j==6:\n",
    "        #break"
   ]
  },
  {
   "cell_type": "code",
   "execution_count": 124,
   "metadata": {
    "collapsed": true
   },
   "outputs": [],
   "source": [
    "#### You need to learn more about nested control statements. "
   ]
  },
  {
   "cell_type": "code",
   "execution_count": 2,
   "metadata": {},
   "outputs": [
    {
     "name": "stdout",
     "output_type": "stream",
     "text": [
      "\n",
      "i =  0 j =  2\n",
      "I will be skipped over if j = 6\n",
      "\n",
      "i =  1 j =  4\n",
      "I will be skipped over if j = 6\n",
      "\n",
      "i =  2 j =  6\n",
      "\n",
      "i =  3 j =  8\n",
      "I will be skipped over if j = 6\n",
      "\n",
      "i =  4 j =  10\n",
      "I will be skipped over if j = 6\n"
     ]
    }
   ],
   "source": [
    "#continue \n",
    "#continue jumps over the instance and continues onto the next one\n",
    "\n",
    "j = 0\n",
    "\n",
    "for i in range(5):\n",
    "    j = j+2\n",
    "    print(\"\\ni = \",i, \"j = \", j)\n",
    "    if j == 6:\n",
    "        continue\n",
    "    print(\"I will be skipped over if j = 6\")"
   ]
  },
  {
   "cell_type": "code",
   "execution_count": 3,
   "metadata": {
    "collapsed": true
   },
   "outputs": [],
   "source": [
    "#6.8 try, except\n",
    "# this trys to execute the command but if it doesnt work it does the other thing i.etels you what error occurred"
   ]
  },
  {
   "cell_type": "code",
   "execution_count": 4,
   "metadata": {},
   "outputs": [
    {
     "name": "stdout",
     "output_type": "stream",
     "text": [
      "An error occurred\n"
     ]
    }
   ],
   "source": [
    "try:\n",
    "    answer = 12/0\n",
    "    print(answer)\n",
    "except:\n",
    "    print(\"An error occurred\")"
   ]
  },
  {
   "cell_type": "code",
   "execution_count": 5,
   "metadata": {
    "collapsed": true
   },
   "outputs": [],
   "source": [
    "#6.8 continued"
   ]
  },
  {
   "cell_type": "code",
   "execution_count": 8,
   "metadata": {},
   "outputs": [
    {
     "name": "stdout",
     "output_type": "stream",
     "text": [
      "Pleae enter a number: 12\n",
      "Pleae enter a another number: 4\n",
      "the answer is  3.0\n",
      "Unknown error:  [Errno 2] No such file or directory: 'missing.txt'\n"
     ]
    }
   ],
   "source": [
    "try:\n",
    "    userInput1 = int(input(\"Pleae enter a number: \"))\n",
    "    userInput2 = int(input(\"Pleae enter a another number: \"))\n",
    "    \n",
    "    answer = userInput1 / userInput2\n",
    "    print(\"the answer is \", answer)\n",
    "    myFile  =  open(\"missing.txt\", \"r\")\n",
    "except ValueError:\n",
    "    print(\"Error: You did not enter a number\")\n",
    "except ZeroDivisionError:\n",
    "    print(\"Error: You cannot divide by 0\")\n",
    "except Exception as e:\n",
    "    print(\"Unknown error: \", e)"
   ]
  },
  {
   "cell_type": "code",
   "execution_count": 9,
   "metadata": {
    "collapsed": true
   },
   "outputs": [],
   "source": [
    "### there are lots of types of errors. the last one will catch them all.\n",
    "### shuld this not be used and then it will catch them all. \n",
    "\n"
   ]
  },
  {
   "cell_type": "code",
   "execution_count": null,
   "metadata": {
    "collapsed": true
   },
   "outputs": [],
   "source": []
  },
  {
   "cell_type": "code",
   "execution_count": 10,
   "metadata": {
    "collapsed": true
   },
   "outputs": [],
   "source": [
    "#CHAPTER 7 FUNCTIONS AND MODULES\n"
   ]
  },
  {
   "cell_type": "code",
   "execution_count": 11,
   "metadata": {
    "collapsed": true
   },
   "outputs": [],
   "source": [
    "##SOME FUNCTIONS REQUIRE YOU TO PASS IN DATA. \n",
    "##OTHERS CAN JUST USE DOT NOTATION \n"
   ]
  },
  {
   "cell_type": "code",
   "execution_count": 12,
   "metadata": {},
   "outputs": [
    {
     "ename": "SyntaxError",
     "evalue": "invalid syntax (<ipython-input-12-f43162c3f85a>, line 2)",
     "output_type": "error",
     "traceback": [
      "\u001b[1;36m  File \u001b[1;32m\"<ipython-input-12-f43162c3f85a>\"\u001b[1;36m, line \u001b[1;32m2\u001b[0m\n\u001b[1;33m    def functionName(List of parameters):\u001b[0m\n\u001b[1;37m                           ^\u001b[0m\n\u001b[1;31mSyntaxError\u001b[0m\u001b[1;31m:\u001b[0m invalid syntax\n"
     ]
    }
   ],
   "source": [
    "7.2\n",
    "\n",
    "# def keyword tells the program that the indented lines of code are part of the function\n",
    "# return is the keyword we use to return a answerfrom the function \n",
    "# when a function execues a return statement the function will end\n",
    "# a function does not require a return statement. you can also return None.\n",
    "\n",
    "def functionName(List of parameters):\n",
    "    code detailing what the fucntion should do\n",
    "    return[expression]\n",
    "    "
   ]
  },
  {
   "cell_type": "code",
   "execution_count": 16,
   "metadata": {},
   "outputs": [
    {
     "data": {
      "text/plain": [
       "True"
      ]
     },
     "execution_count": 16,
     "metadata": {},
     "output_type": "execute_result"
    }
   ],
   "source": [
    "#prime number is a number that is divisible only by itself and 1 (e.g. 2, 3, 5, 7, 11)\n",
    "\n",
    "def checkIfPrime(numberToCheck):\n",
    "    for x in range(2, numberToCheck):\n",
    "        if(numberToCheck % x == 0):\n",
    "            return False\n",
    "        return True\n",
    "    \n",
    "# is the second return statement like a else statement?   \n",
    "# if remainder is == to zero it will return false and exit the function\n",
    "# if remainder does not == zero the next line of will execute and return True and exit the function\n",
    "\n",
    "checkIfPrime(13)"
   ]
  },
  {
   "cell_type": "code",
   "execution_count": null,
   "metadata": {
    "collapsed": true
   },
   "outputs": [],
   "source": [
    "# list of python functions practice\n",
    "# https://www.w3resource.com/python-exercises/python-functions-exercises.php"
   ]
  },
  {
   "cell_type": "code",
   "execution_count": 20,
   "metadata": {},
   "outputs": [
    {
     "data": {
      "text/plain": [
       "27"
      ]
     },
     "execution_count": 20,
     "metadata": {},
     "output_type": "execute_result"
    }
   ],
   "source": [
    "#1. Write a Python function to find the Max of three numbers.\n",
    "\n",
    "def whatsTheMax(a,b,c):\n",
    "    nums = [a,b,c]\n",
    "    maxNum = max(nums)\n",
    "    return maxNum\n",
    "\n",
    "whatsTheMax(3,9,27)\n",
    "    "
   ]
  },
  {
   "cell_type": "code",
   "execution_count": 22,
   "metadata": {},
   "outputs": [
    {
     "data": {
      "text/plain": [
       "20"
      ]
     },
     "execution_count": 22,
     "metadata": {},
     "output_type": "execute_result"
    }
   ],
   "source": [
    "# 2. Write a Python function to sum all the numbers in a list.\n",
    "# Sample List : (8, 2, 3, 0, 7)\n",
    "# Expected Output : 20 \n",
    "\n",
    "\n",
    "def sumNums(listNums):\n",
    "    answ = sum(listNums)\n",
    "    return answ\n",
    "\n",
    "sumNums([8, 2, 3, 0, 7])\n",
    "    "
   ]
  },
  {
   "cell_type": "code",
   "execution_count": null,
   "metadata": {
    "collapsed": true
   },
   "outputs": [],
   "source": []
  },
  {
   "cell_type": "code",
   "execution_count": 23,
   "metadata": {},
   "outputs": [
    {
     "data": {
      "text/plain": [
       "-336"
      ]
     },
     "execution_count": 23,
     "metadata": {},
     "output_type": "execute_result"
    }
   ],
   "source": [
    "# 3. Write a Python function to multiply all the numbers in a list\n",
    "# Sample List : (8, 2, 3, -1, 7)\n",
    "# Expected Output : -336\n",
    "\n",
    "def multList(listNums):\n",
    "    nums = 1\n",
    "    for x in listNums:\n",
    "        nums *= x\n",
    "    return nums\n",
    "\n",
    "multList([8, 2, 3, -1, 7])"
   ]
  },
  {
   "cell_type": "code",
   "execution_count": 24,
   "metadata": {},
   "outputs": [
    {
     "data": {
      "text/plain": [
       "'dcba4321'"
      ]
     },
     "execution_count": 24,
     "metadata": {},
     "output_type": "execute_result"
    }
   ],
   "source": [
    "# 4. Write a Python program to reverse a string.\n",
    "# Sample String : \"1234abcd\"\n",
    "# Expected Output : \"dcba4321\"\n",
    "\n",
    "def reverseString(stringR):\n",
    "    return stringR[::-1]\n",
    "\n",
    "reverseString(\"1234abcd\")"
   ]
  },
  {
   "cell_type": "code",
   "execution_count": 17,
   "metadata": {
    "collapsed": true
   },
   "outputs": [],
   "source": [
    "#7.3 variable scope \n",
    "## this is a important concept to understand"
   ]
  },
  {
   "cell_type": "code",
   "execution_count": 25,
   "metadata": {
    "collapsed": true
   },
   "outputs": [],
   "source": [
    "# any variable declared inside a function is only accesable inside the function \n",
    "# any variable declared outside the function is accessable anywhere in the program. #THIS IS KNOWN AS A GLOBAL VARIABLE.\n",
    "\n"
   ]
  },
  {
   "cell_type": "code",
   "execution_count": 29,
   "metadata": {},
   "outputs": [
    {
     "ename": "NameError",
     "evalue": "name 'message2' is not defined",
     "output_type": "error",
     "traceback": [
      "\u001b[1;31m---------------------------------------------------------------------------\u001b[0m",
      "\u001b[1;31mNameError\u001b[0m                                 Traceback (most recent call last)",
      "\u001b[1;32m<ipython-input-29-a927003d8954>\u001b[0m in \u001b[0;36m<module>\u001b[1;34m()\u001b[0m\n\u001b[0;32m     17\u001b[0m \u001b[1;31m#myFunction()\u001b[0m\u001b[1;33m\u001b[0m\u001b[1;33m\u001b[0m\u001b[0m\n\u001b[0;32m     18\u001b[0m \u001b[1;33m\u001b[0m\u001b[0m\n\u001b[1;32m---> 19\u001b[1;33m \u001b[0mprint\u001b[0m\u001b[1;33m(\u001b[0m\u001b[0mmessage2\u001b[0m\u001b[1;33m)\u001b[0m\u001b[1;33m\u001b[0m\u001b[0m\n\u001b[0m",
      "\u001b[1;31mNameError\u001b[0m: name 'message2' is not defined"
     ]
    }
   ],
   "source": [
    "message1 = \"Global Variable\"\n",
    "\n",
    "def myFunction():\n",
    "    print(\"\\nINSIDE THE FUNCTION\")\n",
    "    # GLOBAL VARIABLES ARE ACCESSIBLE INSIDE A FUNCTION \n",
    "    print(message1)\n",
    "    # DECLARING A LOCAL VARIABLE \n",
    "    message2 = \"Local Variable\"\n",
    "    print(message2)\n",
    "    \n",
    "'''\n",
    "note that the function has no parameters and we use a pair of empty parenthesis to call the function\n",
    "\n",
    "'''\n",
    "\n",
    "\n",
    "#myFunction()\n",
    "\n",
    "print(message2)\n",
    "\n",
    "\n",
    "# inside the function both global and local variables are acceptable\n",
    "# outside the function only glabal variables.\n",
    "# can you return local variables?"
   ]
  },
  {
   "cell_type": "code",
   "execution_count": 34,
   "metadata": {},
   "outputs": [
    {
     "name": "stdout",
     "output_type": "stream",
     "text": [
      "\n",
      "INSIDE THE FUNCTION\n",
      "Local variable (shares the same name as a global variable)\n",
      "\n",
      "OUTSIDE THE FUNCTION\n",
      "Global variable (shares the same name as a local variable)\n"
     ]
    }
   ],
   "source": [
    "message1  = \"Global variable (shares the same name as a local variable)\"\n",
    "\n",
    "def myFunction():\n",
    "    message1  = \"Local variable (shares the same name as a global variable)\"\n",
    "    print(\"\\nINSIDE THE FUNCTION\")\n",
    "    print(message1)\n",
    "    \n",
    "myFunction()\n",
    "\n",
    "print(\"\\nOUTSIDE THE FUNCTION\")\n",
    "print(message1)\n",
    "\n",
    "# a local variable cannot change a global variable. this is good to know. IMPORTANT \n"
   ]
  },
  {
   "cell_type": "code",
   "execution_count": 38,
   "metadata": {},
   "outputs": [
    {
     "name": "stdout",
     "output_type": "stream",
     "text": [
      "0 2 1 2 3\n",
      "10 20 30 40 59\n"
     ]
    }
   ],
   "source": [
    "# 7.4 DEFAULT PARAMETER VALUES \n",
    "\n",
    "# PYTHON ALLOWS YOU TO DEFINE DAFAULT VALUES \n",
    "# IF A PARAMETER HAS A DEFAULT VALUE WE DO NOT HAVE TO PASS A VALUE WHEN CALLING THE FUNCTION\n",
    "\n",
    "def someFunction(a,b,c=1,d=2,e=3):\n",
    "    print(a,b,c,d,e)\n",
    "    \n",
    "#NOTE YOU HAVE TO DEFINE THE PARAMETERS WITH DEFAULT VALUES AT THE END OF THE FUNCTION \n",
    "# YOU CANNOT HAVE THE AS BELOW\n",
    "\n",
    "\"\"\"\n",
    "def someIncorrectFunction(p,q=1,r):\n",
    "    print(p,q,r)\n",
    "\n",
    "someIncorrectFunction(10,20)\n",
    "\n",
    "this will not work\n",
    "\n",
    "\"\"\"\n",
    "\n",
    "###the have to be placed in sequence. its not smart enough to place them where you want. \n",
    "\n",
    "\n",
    "someFunction(0,2)\n",
    "\n",
    "someFunction(10,20,30,40,59)"
   ]
  },
  {
   "cell_type": "code",
   "execution_count": 40,
   "metadata": {},
   "outputs": [
    {
     "name": "stdout",
     "output_type": "stream",
     "text": [
      "10\n"
     ]
    }
   ],
   "source": [
    "# 7.5 variable length argument list \n",
    "\n",
    "# in addition to default values for parameters\n",
    "# python also allows you to pass a variable number of argulments to a function?\n",
    "# this is very useful when we if we do not know the number of arguments a function has in advance. \n",
    "\n",
    "# in cases like this we can use a * \n",
    "\n",
    "def addNumbers(*num):\n",
    "    sum = 0 \n",
    "    for i in num:\n",
    "        sum  = sum + i\n",
    "    print(sum)\n",
    "    \n",
    "addNumbers(2,3,5)"
   ]
  },
  {
   "cell_type": "code",
   "execution_count": 41,
   "metadata": {
    "collapsed": true
   },
   "outputs": [],
   "source": [
    "# when we add a asterix\n",
    "# we can pass a varible number of arguments to a list \n",
    "# this is know as a non-keyworded variable length argument list"
   ]
  },
  {
   "cell_type": "code",
   "execution_count": 46,
   "metadata": {},
   "outputs": [
    {
     "name": "stdout",
     "output_type": "stream",
     "text": [
      "name = dave, age = 32\n",
      "name = john, age = 7\n",
      "name = rob, age = 33\n"
     ]
    }
   ],
   "source": [
    "# if we want to add a keyworded argument list\n",
    "# we can use double asterix\n",
    "# this is essentially a dictionary \n",
    "# dave:32\n",
    "\n",
    "### what is happening below with i and j?\n",
    "\n",
    "def printMemberAge(**age):\n",
    "    for i, j in age.items():\n",
    "        print(\"name = %s, age = %s\"%(i,j))\n",
    "\n",
    "printMemberAge(dave = 32, john = 7, rob = 33)\n",
    "        \n"
   ]
  },
  {
   "cell_type": "code",
   "execution_count": 48,
   "metadata": {},
   "outputs": [
    {
     "data": {
      "text/plain": [
       "'\\ndef someFunction(farg, *args, **kwargs):\\n\\n'"
      ]
     },
     "execution_count": 48,
     "metadata": {},
     "output_type": "execute_result"
    }
   ],
   "source": [
    "# this is useful but we need to practice how useful this is \n",
    "# if our function uses a;\n",
    "# 1. normal (formal) argument, \n",
    "# 2. non keyworded argument,\n",
    "# 3. keyworded argument,\n",
    "\n",
    "# we need to define it liek this \n",
    "\n",
    "\"\"\"\n",
    "def someFunction(farg, *args, **kwargs):\n",
    "\n",
    "\"\"\"\n",
    "\n",
    "# the formal argument is first \n",
    "# the non keyworded argument is second\n",
    "# the keyworded argument third"
   ]
  },
  {
   "cell_type": "code",
   "execution_count": 49,
   "metadata": {
    "collapsed": true
   },
   "outputs": [],
   "source": [
    "#IMPORTING MODULES"
   ]
  },
  {
   "cell_type": "code",
   "execution_count": 51,
   "metadata": {},
   "outputs": [
    {
     "data": {
      "text/plain": [
       "'\\n\\nimport moduleName\\n\\n#####1#####\\n\\nimport random \\n\\n# to use randrange()\\n# we write\\n# random.randrange(1,10)\\n\\n#####2#####\\n\\nif you dont want to write random each time you call the function you can import random as r\\n\\nimport random as r \\n\\nnow you can use \\n\\nr.randrange(1,10)\\n\\n#####3#####\\n\\nyou can also import specific functions in a module\\n\\nfrom moduleName import fucntion1,function2\\n\\nfrom random import randerange, randint\\n\\nwith this we do not have to use the dot notation and can just call the function \\n\\nranrange(1,10)\\n\\n'"
      ]
     },
     "execution_count": 51,
     "metadata": {},
     "output_type": "execute_result"
    }
   ],
   "source": [
    "# PYTHON HAS A LARGE NUMBER OF BUILT INFUCTIONS. \n",
    "\n",
    "# THESE ARE SAVED IN FILES KNOWN AS MODULES \n",
    "\n",
    "# WE HAVE TO IMPORT THEM IN TO USE THEM\n",
    "\n",
    "# IT CAN BE DONE IN ONE OF 3 WAYS \n",
    "\n",
    "\"\"\"\n",
    "\n",
    "import moduleName\n",
    "\n",
    "#####1#####\n",
    "\n",
    "import random \n",
    "\n",
    "# to use randrange()\n",
    "# we write\n",
    "# random.randrange(1,10)\n",
    "\n",
    "#####2#####\n",
    "\n",
    "if you dont want to write random each time you call the function you can import random as r\n",
    "\n",
    "import random as r \n",
    "\n",
    "now you can use \n",
    "\n",
    "r.randrange(1,10)\n",
    "\n",
    "#####3#####\n",
    "\n",
    "you can also import specific functions in a module\n",
    "\n",
    "from moduleName import fucntion1,function2\n",
    "\n",
    "from random import randerange, randint\n",
    "\n",
    "with this we do not have to use the dot notation and can just call the function \n",
    "\n",
    "ranrange(1,10)\n",
    "\n",
    "\"\"\""
   ]
  },
  {
   "cell_type": "code",
   "execution_count": 52,
   "metadata": {
    "collapsed": true
   },
   "outputs": [],
   "source": [
    "# 7.7 creating our own modules \n",
    "\n"
   ]
  },
  {
   "cell_type": "code",
   "execution_count": 54,
   "metadata": {},
   "outputs": [
    {
     "data": {
      "text/plain": [
       "True"
      ]
     },
     "execution_count": 54,
     "metadata": {},
     "output_type": "execute_result"
    }
   ],
   "source": [
    "# this is a good idea if you want to reusecode again and again \n",
    "\n",
    "# you can do this by savinf the file with a .py extension in the same folder as the python \n",
    "# file you are going to import it into\n",
    "\n",
    "import prime\n",
    "\n",
    "prime.checkIfPrime(3)"
   ]
  },
  {
   "cell_type": "code",
   "execution_count": 56,
   "metadata": {},
   "outputs": [
    {
     "data": {
      "text/plain": [
       "True"
      ]
     },
     "execution_count": 56,
     "metadata": {},
     "output_type": "execute_result"
    }
   ],
   "source": [
    "# if the are not in the same folder you haveto tell python where to look \n",
    "import sys\n",
    "if r\"C:\\Users\\chida\\Test\" not in sys.path:\n",
    "    sys.path.append(r\"C:\\Users\\chida\\Test\")\n",
    "import prime\n",
    "\n",
    "prime.checkIfPrime(3)"
   ]
  },
  {
   "cell_type": "code",
   "execution_count": 64,
   "metadata": {},
   "outputs": [
    {
     "data": {
      "text/plain": [
       "True"
      ]
     },
     "execution_count": 64,
     "metadata": {},
     "output_type": "execute_result"
    }
   ],
   "source": [
    "import sys\n",
    "if r\"C:\\Users\\chida\\learn python in a day\" not in sys.path:\n",
    "    sys.path.append(r\"C:\\Users\\chida\\learn python in a day\")\n",
    "import prime10\n",
    "\n",
    "prime10.checkIfPrime(3)\n",
    "\n",
    "###ok you can map to a folder of your choice. \n",
    "#sys.path is a list of folders that python goes to in search of modules\n"
   ]
  },
  {
   "cell_type": "code",
   "execution_count": 65,
   "metadata": {},
   "outputs": [
    {
     "name": "stdout",
     "output_type": "stream",
     "text": [
      "['', 'C:\\\\ProgramData\\\\Anaconda3\\\\python36.zip', 'C:\\\\ProgramData\\\\Anaconda3\\\\DLLs', 'C:\\\\ProgramData\\\\Anaconda3\\\\lib', 'C:\\\\ProgramData\\\\Anaconda3', 'C:\\\\ProgramData\\\\Anaconda3\\\\lib\\\\site-packages', 'C:\\\\ProgramData\\\\Anaconda3\\\\lib\\\\site-packages\\\\Sphinx-1.5.6-py3.6.egg', 'C:\\\\ProgramData\\\\Anaconda3\\\\lib\\\\site-packages\\\\win32', 'C:\\\\ProgramData\\\\Anaconda3\\\\lib\\\\site-packages\\\\win32\\\\lib', 'C:\\\\ProgramData\\\\Anaconda3\\\\lib\\\\site-packages\\\\Pythonwin', 'C:\\\\ProgramData\\\\Anaconda3\\\\lib\\\\site-packages\\\\setuptools-27.2.0-py3.6.egg', 'C:\\\\ProgramData\\\\Anaconda3\\\\lib\\\\site-packages\\\\IPython\\\\extensions', 'C:\\\\Users\\\\chida\\\\.ipython', 'C:\\\\Users\\\\chida\\\\Test', 'C:\\\\Users\\\\chida\\\\learn python in a day']\n"
     ]
    }
   ],
   "source": [
    "### here is the list \n",
    "\n",
    "print(sys.path)"
   ]
  },
  {
   "cell_type": "code",
   "execution_count": 66,
   "metadata": {},
   "outputs": [
    {
     "name": "stdout",
     "output_type": "stream",
     "text": [
      "\n",
      "C:\\ProgramData\\Anaconda3\\python36.zip\n",
      "C:\\ProgramData\\Anaconda3\\DLLs\n",
      "C:\\ProgramData\\Anaconda3\\lib\n",
      "C:\\ProgramData\\Anaconda3\n",
      "C:\\ProgramData\\Anaconda3\\lib\\site-packages\n",
      "C:\\ProgramData\\Anaconda3\\lib\\site-packages\\Sphinx-1.5.6-py3.6.egg\n",
      "C:\\ProgramData\\Anaconda3\\lib\\site-packages\\win32\n",
      "C:\\ProgramData\\Anaconda3\\lib\\site-packages\\win32\\lib\n",
      "C:\\ProgramData\\Anaconda3\\lib\\site-packages\\Pythonwin\n",
      "C:\\ProgramData\\Anaconda3\\lib\\site-packages\\setuptools-27.2.0-py3.6.egg\n",
      "C:\\ProgramData\\Anaconda3\\lib\\site-packages\\IPython\\extensions\n",
      "C:\\Users\\chida\\.ipython\n",
      "C:\\Users\\chida\\Test\n",
      "C:\\Users\\chida\\learn python in a day\n"
     ]
    }
   ],
   "source": [
    "for i in sys.path:\n",
    "    print(i)\n",
    "    \n",
    "## if i am going to do this properly then this needs to be clearly defined \n",
    "## will a open university degree help?\n",
    "## if i take it at masters level it might spur me on further. \n"
   ]
  },
  {
   "cell_type": "code",
   "execution_count": 63,
   "metadata": {
    "collapsed": true
   },
   "outputs": [],
   "source": [
    "####CHAPTER 8 WORKING WITH EXTERNAL FILES \n",
    "\n",
    "# WE HAVE WORKED WITH DATA USING INPUT\n",
    "# BUT SOMETIMES IT IS NOT PRACTICAL FOR USERS TO MANUALLY ENTER DATA \n",
    "# PREPARE THE NEEDED INFORMATION IN AN EXTERNAL FILE IS SOMETIMES BETTER\n"
   ]
  },
  {
   "cell_type": "code",
   "execution_count": 72,
   "metadata": {},
   "outputs": [
    {
     "name": "stdout",
     "output_type": "stream",
     "text": [
      "Learn python in a day and learn it well \n",
      "\n",
      "python for beginners with hands on projects \n",
      "\n",
      "the only book you need to start coding immediately \n",
      "\n"
     ]
    },
    {
     "data": {
      "text/plain": [
       "<function TextIOWrapper.close>"
      ]
     },
     "execution_count": 72,
     "metadata": {},
     "output_type": "execute_result"
    }
   ],
   "source": [
    "#OPENING AND READING TEXT FILES \n",
    "\n",
    "# we first open the file witht he location and the second argument\n",
    "# the second argument is as follows\n",
    "\n",
    "# r = read only \n",
    "# w = writing.  If a file doesnt exist it will be create. if it exists it will be overwritten\n",
    "# a = append. if the file does not exist it will be cretae. if it exists the data written to the file with be added at the end. \n",
    "# r+ is for both reading and writing \n",
    "\n",
    "\n",
    "f = open(r\"C:\\Users\\chida\\learn python in a day\\myfile.txt\", \"r\")\n",
    "\n",
    "# .readline assigns the information in the first line to the varibale firstline\n",
    "# each time readline is called it reads a new line form the file. \n",
    "# readline adds a new lineto the end of eachline. \n",
    "# if you dont want the new lineuse end = \n",
    "\n",
    "firstline = f.readline()\n",
    "secondline = f.readline()\n",
    "thirdline = f.readline()\n",
    "print(firstline)\n",
    "print(secondline)\n",
    "print(thirdline)\n",
    "\n",
    "### you should always close the file \n",
    "\n",
    "\n",
    "f.close"
   ]
  },
  {
   "cell_type": "code",
   "execution_count": 77,
   "metadata": {},
   "outputs": [
    {
     "name": "stdout",
     "output_type": "stream",
     "text": [
      "Learn python in a day and learn it well \n",
      "python for beginners with hands on projects \n",
      "the only book you need to start coding immediately \n",
      "\n"
     ]
    },
    {
     "data": {
      "text/plain": [
       "<function TextIOWrapper.close>"
      ]
     },
     "execution_count": 77,
     "metadata": {},
     "output_type": "execute_result"
    }
   ],
   "source": [
    "# if you dont want the new lineuse end = \n",
    "f = open(r\"C:\\Users\\chida\\learn python in a day\\myfile.txt\", \"r\")\n",
    "\n",
    "firstline = f.readline()\n",
    "secondline = f.readline()\n",
    "thirdline = f.readline()\n",
    "print(firstline, end = \"\")\n",
    "print(secondline, end = \"\")\n",
    "print(thirdline)\n",
    "\n",
    "f.close"
   ]
  },
  {
   "cell_type": "code",
   "execution_count": 78,
   "metadata": {},
   "outputs": [
    {
     "name": "stdout",
     "output_type": "stream",
     "text": [
      "Learn python in a day and learn it well \n",
      "python for beginners with hands on projects \n",
      "the only book you need to start coding immediately \n",
      "http://www.learncodingfast.com/python"
     ]
    },
    {
     "data": {
      "text/plain": [
       "<function TextIOWrapper.close>"
      ]
     },
     "execution_count": 78,
     "metadata": {},
     "output_type": "execute_result"
    }
   ],
   "source": [
    "# using a for loop is a better way to read through all the information in a text file \n",
    "\n",
    "f = open(r\"C:\\Users\\chida\\learn python in a day\\myfile.txt\", \"r\")\n",
    "\n",
    "for i in f:\n",
    "    print(i, end = \"\")\n",
    "f.close"
   ]
  },
  {
   "cell_type": "code",
   "execution_count": 80,
   "metadata": {},
   "outputs": [
    {
     "name": "stdout",
     "output_type": "stream",
     "text": [
      "Test\n",
      "\n",
      "Lorem ipsum dolor sit amet, consectetur adipiscing elit. Cras tortor elit, ullamcorper in varius a, pretium non velit. \n",
      "Pellentesque et pulvinar erat, ut cursus augue. Cras eu magna in lectus viverra viverra. \n",
      "Mauris lacinia dolor eu sapien posuere, in pharetra purus varius. \n",
      "Mauris condimentum lorem a lacus bibendum, vitae dictum tellus accumsan. \n",
      "Cras luctus mi at suscipit ultricies. \n",
      "Duis pellentesque aliquet nulla vel hendrerit. \n",
      "Aliquam erat volutpat. Cras porta, risus id ornare viverra, odio elit cursus nibh, nec efficitur ipsum neque at tortor.\n",
      "\n",
      "Etiam mauris risus, maximus sed augue non, egestas vestibulum justo. \n",
      "Cras sed tellus pharetra, varius lacus vitae, tristique augue. \n",
      "Proin at iaculis est. Suspendisse id laoreet ligula. Vestibulum in euismod quam. \n",
      "Ut maximus euismod enim, quis ultrices tortor convallis sit amet. \n",
      "Donec hendrerit metus magna, id imperdiet arcu ultrices a. \n",
      "Vestibulum auctor mauris in fermentum elementum. \n",
      "Pellentesque tincidunt velit ac ipsum pellentesque congue. \n",
      "Nam viverra congue lacinia. Mauris at ornare felis, non imperdiet diam. \n",
      "Aliquam gravida tincidunt nunc, eget efficitur nulla maximus sit amet. \n",
      "In blandit magna leo, non sodales dui pretium sed. In accumsan bibendum lacus, porttitor pellentesque massa efficitur at.\n",
      "\n"
     ]
    }
   ],
   "source": [
    "f = open(r\"C:\\Users\\chida\\learn python in a day\\test1.txt\", \"r\")\n",
    "\n",
    "for i in f:\n",
    "    print(i, end = \"\")\n",
    "    f.close"
   ]
  },
  {
   "cell_type": "code",
   "execution_count": null,
   "metadata": {
    "collapsed": true
   },
   "outputs": [],
   "source": [
    "# writing to a text file \n",
    "\n",
    "# we are going to use the append mode"
   ]
  },
  {
   "cell_type": "code",
   "execution_count": 82,
   "metadata": {},
   "outputs": [
    {
     "data": {
      "text/plain": [
       "<function TextIOWrapper.close>"
      ]
     },
     "execution_count": 82,
     "metadata": {},
     "output_type": "execute_result"
    }
   ],
   "source": [
    "f = open(r\"C:\\Users\\chida\\learn python in a day\\test1.txt\", \"a\")\n",
    "\n",
    "\n",
    "f.write(\"\\nThis sentence will be appended\")\n",
    "f.write(\"\\nPython is fun\")\n",
    "\n",
    "\n",
    "f.close"
   ]
  },
  {
   "cell_type": "code",
   "execution_count": 83,
   "metadata": {},
   "outputs": [
    {
     "name": "stdout",
     "output_type": "stream",
     "text": [
      "Test\n",
      "\n",
      "Lorem ipsum dolor sit amet, consectetur adipiscing elit. Cras tortor elit, ullamcorper in varius a, pretium non velit. \n",
      "Pellentesque et pulvinar erat, ut cursus augue. Cras eu magna in lectus viverra viverra. \n",
      "Mauris lacinia dolor eu sapien posuere, in pharetra purus varius. \n",
      "Mauris condimentum lorem a lacus bibendum, vitae dictum tellus accumsan. \n",
      "Cras luctus mi at suscipit ultricies. \n",
      "Duis pellentesque aliquet nulla vel hendrerit. \n",
      "Aliquam erat volutpat. Cras porta, risus id ornare viverra, odio elit cursus nibh, nec efficitur ipsum neque at tortor.\n",
      "\n",
      "Etiam mauris risus, maximus sed augue non, egestas vestibulum justo. \n",
      "Cras sed tellus pharetra, varius lacus vitae, tristique augue. \n",
      "Proin at iaculis est. Suspendisse id laoreet ligula. Vestibulum in euismod quam. \n",
      "Ut maximus euismod enim, quis ultrices tortor convallis sit amet. \n",
      "Donec hendrerit metus magna, id imperdiet arcu ultrices a. \n",
      "Vestibulum auctor mauris in fermentum elementum. \n",
      "Pellentesque tincidunt velit ac ipsum pellentesque congue. \n",
      "Nam viverra congue lacinia. Mauris at ornare felis, non imperdiet diam. \n",
      "Aliquam gravida tincidunt nunc, eget efficitur nulla maximus sit amet. \n",
      "In blandit magna leo, non sodales dui pretium sed. In accumsan bibendum lacus, porttitor pellentesque massa efficitur at.\n",
      "\n",
      "\n",
      "This sentence will be appended\n",
      "Python is fun"
     ]
    }
   ],
   "source": [
    "f = open(r\"C:\\Users\\chida\\learn python in a day\\test1.txt\", \"r\")\n",
    "\n",
    "for i in f:\n",
    "    print(i, end = \"\")"
   ]
  },
  {
   "cell_type": "code",
   "execution_count": null,
   "metadata": {
    "collapsed": true
   },
   "outputs": [],
   "source": [
    "# 8.4 \n",
    "# opening and reading text file by buffer size \n",
    "# wtf is buffer size\n",
    "# we can you the read function instead of readline \n",
    "\n",
    "inputFile = open(r\"C:\\Users\\chida\\learn python in a day\\test1.txt\", \"r\")\n",
    "outputFile = open(r\"C:\\Users\\chida\\learn python in a day\\test1output.txt\", \"w\")\n",
    "\n",
    "msg = inputFile.read(10)\n",
    "\n",
    "### the read() reads through the file 10 bytes at a time until it is read\n",
    "\n",
    "while len(msg):\n",
    "    outputFile.write(msg)\n",
    "    msg = inputFile.read(10)\n",
    "    \n",
    "inputFile.close()\n",
    "outputFile.close()\n",
    "    \n",
    "\n"
   ]
  },
  {
   "cell_type": "code",
   "execution_count": null,
   "metadata": {
    "collapsed": true
   },
   "outputs": [],
   "source": [
    "f = open(r\"C:\\Users\\chida\\learn python in a day\\test1output.txt\", \"r\")\n",
    "\n",
    "\n",
    "for i in f:\n",
    "    print(i, end = \"\")\n",
    "    f.close"
   ]
  },
  {
   "cell_type": "code",
   "execution_count": null,
   "metadata": {
    "collapsed": true
   },
   "outputs": [],
   "source": [
    "print(\"h\")"
   ]
  },
  {
   "cell_type": "code",
   "execution_count": null,
   "metadata": {
    "collapsed": true
   },
   "outputs": [],
   "source": [
    "inputFile = open(r\"C:\\Users\\chida\\learn python in a day\\test1.txt\", \"r\")\n",
    "outputFile = open(r\"C:\\Users\\chida\\learn python in a day\\test1output1.txt\", \"w\")\n",
    "\n",
    "msg = inputFile.read(10)\n",
    "\n",
    "### the read() reads through the file 10 bytes at a time until it is read\n",
    "\n",
    "while len(msg):\n",
    "    outputFile.write(msg + \"\\n\")\n",
    "    msg = inputFile.read(10)\n",
    "    \n",
    "inputFile.close()\n",
    "outputFile.close()"
   ]
  },
  {
   "cell_type": "code",
   "execution_count": null,
   "metadata": {
    "collapsed": true
   },
   "outputs": [],
   "source": [
    "print(\"HEllO\")"
   ]
  },
  {
   "cell_type": "code",
   "execution_count": null,
   "metadata": {
    "collapsed": true
   },
   "outputs": [],
   "source": []
  }
 ],
 "metadata": {
  "kernelspec": {
   "display_name": "Python 3",
   "language": "python",
   "name": "python3"
  }
 },
 "nbformat": 4,
 "nbformat_minor": 2
}
